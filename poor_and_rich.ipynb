{
  "nbformat": 4,
  "nbformat_minor": 0,
  "metadata": {
    "colab": {
      "name": "poor_and_rich.ipynb",
      "provenance": [],
      "toc_visible": true
    },
    "kernelspec": {
      "name": "python3",
      "display_name": "Python 3"
    },
    "accelerator": "GPU"
  },
  "cells": [
    {
      "cell_type": "code",
      "metadata": {
        "id": "kTtCnTGrtsdG",
        "colab_type": "code",
        "outputId": "34753732-d8e1-4fc0-a3f7-9c45e2366e64",
        "colab": {
          "base_uri": "https://localhost:8080/",
          "height": 126
        }
      },
      "source": [
        "from google.colab import drive\n",
        "drive.mount('/content/drive')"
      ],
      "execution_count": 0,
      "outputs": [
        {
          "output_type": "stream",
          "text": [
            "Go to this URL in a browser: https://accounts.google.com/o/oauth2/auth?client_id=947318989803-6bn6qk8qdgf4n4g3pfee6491hc0brc4i.apps.googleusercontent.com&redirect_uri=urn%3aietf%3awg%3aoauth%3a2.0%3aoob&response_type=code&scope=email%20https%3a%2f%2fwww.googleapis.com%2fauth%2fdocs.test%20https%3a%2f%2fwww.googleapis.com%2fauth%2fdrive%20https%3a%2f%2fwww.googleapis.com%2fauth%2fdrive.photos.readonly%20https%3a%2f%2fwww.googleapis.com%2fauth%2fpeopleapi.readonly\n",
            "\n",
            "Enter your authorization code:\n",
            "··········\n",
            "Mounted at /content/drive\n"
          ],
          "name": "stdout"
        }
      ]
    },
    {
      "cell_type": "markdown",
      "metadata": {
        "id": "2T9YQsP43Qy8",
        "colab_type": "text"
      },
      "source": [
        "# 数据预处理"
      ]
    },
    {
      "cell_type": "code",
      "metadata": {
        "id": "g3XSLfJv7OI0",
        "colab_type": "code",
        "outputId": "ffd591bb-f8da-4a31-bf02-1f2c2dfeb5d4",
        "colab": {
          "base_uri": "https://localhost:8080/",
          "height": 52
        }
      },
      "source": [
        "import pandas as pd\n",
        "import numpy as np\n",
        "x_data = pd.read_csv('/content/drive/My Drive/研一/模式识别/数据/X_train.csv')\n",
        "y_data = pd.read_csv('/content/drive/My Drive/研一/模式识别/数据/Y_train.csv')\n",
        "x_data = np.array(x_data)\n",
        "y_data = np.array(y_data)\n",
        "print(x_data.shape)\n",
        "print(y_data.shape)"
      ],
      "execution_count": 0,
      "outputs": [
        {
          "output_type": "stream",
          "text": [
            "(32561, 106)\n",
            "(32561, 1)\n"
          ],
          "name": "stdout"
        }
      ]
    },
    {
      "cell_type": "code",
      "metadata": {
        "id": "pErswKDEofwS",
        "colab_type": "code",
        "outputId": "05dbef67-9b8b-449b-ea04-9280bf250962",
        "colab": {
          "base_uri": "https://localhost:8080/",
          "height": 52
        }
      },
      "source": [
        "from sklearn.model_selection import train_test_split\n",
        "from sklearn import preprocessing\n",
        "from sklearn.metrics import classification_report\n",
        "\n",
        "test = pd.read_csv('/content/drive/My Drive/研一/模式识别/数据/X_test.csv')\n",
        "test = np.array(test)\n",
        "print('test', test.shape)\n",
        "x_data = np.append(x_data, test, axis=0)\n",
        "x_data = preprocessing.MaxAbsScaler().fit_transform(x_data)\n",
        "test = x_data[32561:48842, :]\n",
        "print(x_data.shape, test.shape)\n",
        "x_data = x_data[0:32561, :]\n",
        "\n",
        "\n",
        "selected_num = 32561\n",
        "x_data = x_data[0:selected_num, :]\n",
        "y_data = y_data[0:selected_num]\n",
        "\n",
        "x_train, x_test, y_train, y_test = train_test_split(x_data, y_data, test_size=0.1, random_state=2)"
      ],
      "execution_count": 0,
      "outputs": [
        {
          "output_type": "stream",
          "text": [
            "test (16281, 106)\n",
            "(48842, 106) (16281, 106)\n"
          ],
          "name": "stdout"
        }
      ]
    },
    {
      "cell_type": "code",
      "metadata": {
        "id": "Oy-6NVC7RE0Q",
        "colab_type": "code",
        "outputId": "125bbda1-ce7c-4380-fd28-8c338ab2b148",
        "colab": {
          "base_uri": "https://localhost:8080/",
          "height": 35
        }
      },
      "source": [
        "print(x_train.shape, x_test.shape)"
      ],
      "execution_count": 0,
      "outputs": [
        {
          "output_type": "stream",
          "text": [
            "(29304, 106) (3257, 106)\n"
          ],
          "name": "stdout"
        }
      ]
    },
    {
      "cell_type": "markdown",
      "metadata": {
        "id": "MQ7rXX4X6lT0",
        "colab_type": "text"
      },
      "source": [
        "# 逻辑回归"
      ]
    },
    {
      "cell_type": "code",
      "metadata": {
        "id": "VdCTyzBablBA",
        "colab_type": "code",
        "outputId": "ecf2808e-f31d-48eb-aabb-e4143807109b",
        "colab": {
          "base_uri": "https://localhost:8080/",
          "height": 126
        }
      },
      "source": [
        "from sklearn.linear_model import LogisticRegression\n",
        "lr_model = LogisticRegression() #调用模型，但是并未经过任何调参操作，使用默认值\n",
        "lr_model.fit(x_train,y_train) #训练模型\n",
        " \n",
        "print(lr_model.score(x_test,y_test))  #获取测试集的评分"
      ],
      "execution_count": 0,
      "outputs": [
        {
          "output_type": "stream",
          "text": [
            "0.8459412427065206\n"
          ],
          "name": "stdout"
        },
        {
          "output_type": "stream",
          "text": [
            "/usr/local/lib/python3.6/dist-packages/sklearn/linear_model/logistic.py:432: FutureWarning: Default solver will be changed to 'lbfgs' in 0.22. Specify a solver to silence this warning.\n",
            "  FutureWarning)\n",
            "/usr/local/lib/python3.6/dist-packages/sklearn/utils/validation.py:724: DataConversionWarning: A column-vector y was passed when a 1d array was expected. Please change the shape of y to (n_samples, ), for example using ravel().\n",
            "  y = column_or_1d(y, warn=True)\n"
          ],
          "name": "stderr"
        }
      ]
    },
    {
      "cell_type": "code",
      "metadata": {
        "id": "nS4rxVSncq3E",
        "colab_type": "code",
        "colab": {}
      },
      "source": [
        "def sigmoid(z):\n",
        "  return 1.0/(1.0+np.exp(-z))\n",
        "\n",
        "def logistic_regression(x, y, iterations, alpha, print_step):\n",
        "  x = np.append(x, np.ones((x.shape[0], 1)), axis=1)\n",
        "  w = np.random.random((x.shape[1],1))\n",
        "  for i in range(iterations):\n",
        "    z = np.dot(x, w)\n",
        "    pre = sigmoid(z)\n",
        "    error = pre - y\n",
        "    grad = np.dot(x.T, error)\n",
        "    # print(grad.shape)\n",
        "    w -= alpha*grad\n",
        "    if i % print_step == 0:\n",
        "      e = np.exp(-10)\n",
        "      NLL = -np.sum(y*np.log(pre+e) + (1-y)*np.log(1-pre+e))\n",
        "      acc = np.sum(np.round(pre)==y)/(y.shape[0]*1.0)\n",
        "      print('iteration{}:NLL loss{}, train accuracy{}'.format(i, NLL, acc))\n",
        "  return w\n",
        "\n",
        "def logistic_regression_predict(x, w):\n",
        "  x = np.append(x, np.ones((x.shape[0], 1)), axis=1)\n",
        "  z = np.dot(x, w)\n",
        "  preds = sigmoid(z)\n",
        "  return np.round(preds)\n"
      ],
      "execution_count": 0,
      "outputs": []
    },
    {
      "cell_type": "code",
      "metadata": {
        "id": "weSeGgFtHMTA",
        "colab_type": "code",
        "outputId": "30a65eda-1303-47e7-ea47-50b6e8072d88",
        "colab": {
          "base_uri": "https://localhost:8080/",
          "height": 295
        }
      },
      "source": [
        "from sklearn.metrics import roc_curve, auc\n",
        "def plot_roc(labels, predict_prob):\n",
        "    false_positive_rate,true_positive_rate,thresholds=roc_curve(labels, predict_prob)\n",
        "    roc_auc=auc(false_positive_rate, true_positive_rate)\n",
        "    plt.title('ROC')\n",
        "    plt.plot(false_positive_rate, true_positive_rate,'b',label='AUC = %0.4f'% roc_auc)\n",
        "    plt.legend(loc='lower right')\n",
        "    plt.plot([0,1],[0,1],'r--')\n",
        "    plt.ylabel('TPR')\n",
        "    plt.xlabel('FPR')\n",
        "    plt.show()\n",
        "plot_roc(y_test[:, 0], preds[:, 0])"
      ],
      "execution_count": 0,
      "outputs": [
        {
          "output_type": "display_data",
          "data": {
            "image/png": "[encoded data removed]",
            "text/plain": [
              "<Figure size 432x288 with 1 Axes>"
            ]
          },
          "metadata": {
            "tags": []
          }
        }
      ]
    },
    {
      "cell_type": "code",
      "metadata": {
        "id": "i7f9J5_GErqK",
        "colab_type": "code",
        "colab": {}
      },
      "source": [
        "weights = logistic_regression(x_train, y_train, 20000, 0.1, 100)\n",
        "preds = logistic_regression_predict(x_test, weights)"
      ],
      "execution_count": 0,
      "outputs": []
    },
    {
      "cell_type": "code",
      "metadata": {
        "id": "OQhwHqubG70W",
        "colab_type": "code",
        "outputId": "ba7de9ef-1fca-4ac3-9bfd-e6cc394954b2",
        "colab": {
          "base_uri": "https://localhost:8080/",
          "height": 35
        }
      },
      "source": [
        "print('准确率：', np.sum(y_test[:, 0]==preds[:, 0])/y_test.shape[0])"
      ],
      "execution_count": 0,
      "outputs": [
        {
          "output_type": "stream",
          "text": [
            "准确率： 0.8323610684679152\n"
          ],
          "name": "stdout"
        }
      ]
    },
    {
      "cell_type": "code",
      "metadata": {
        "id": "sWFpVLNswSmY",
        "colab_type": "code",
        "outputId": "a14a31bb-82fd-4057-9b97-664fe4ccaef8",
        "colab": {
          "base_uri": "https://localhost:8080/",
          "height": 497
        }
      },
      "source": [
        "weights = logistic_regression(x_train, y_train, 76, 0.1, 5)\n",
        "preds = logistic_regression_predict(x_test, weights)\n",
        "print(classification_report(y_test[:, 0], preds[:, 0]))"
      ],
      "execution_count": 0,
      "outputs": [
        {
          "output_type": "stream",
          "text": [
            "iteration0:NLL loss83078.53887496736, train accuracy0.23983073983073983\n",
            "iteration5:NLL loss70278.98869307054, train accuracy0.7601692601692601\n",
            "iteration10:NLL loss86557.50702955267, train accuracy0.7038288288288288\n",
            "iteration15:NLL loss70268.98864872212, train accuracy0.7602033852033852\n",
            "iteration20:NLL loss70268.98864872314, train accuracy0.7602033852033852\n",
            "iteration25:NLL loss70228.99790336317, train accuracy0.7603398853398854\n",
            "iteration30:NLL loss55204.39008924678, train accuracy0.810981435981436\n",
            "iteration35:NLL loss70268.98865124916, train accuracy0.7602033852033852\n",
            "iteration40:NLL loss83112.64925648514, train accuracy0.7143734643734644\n",
            "iteration45:NLL loss70278.98849122107, train accuracy0.7601692601692601\n"
          ],
          "name": "stdout"
        },
        {
          "output_type": "stream",
          "text": [
            "/usr/local/lib/python3.6/dist-packages/ipykernel_launcher.py:2: RuntimeWarning: overflow encountered in exp\n",
            "  \n"
          ],
          "name": "stderr"
        },
        {
          "output_type": "stream",
          "text": [
            "iteration50:NLL loss49865.97712992449, train accuracy0.8283852033852034\n",
            "iteration55:NLL loss69748.85766395672, train accuracy0.7619778869778869\n",
            "iteration60:NLL loss78546.32191641598, train accuracy0.7305828555828556\n",
            "iteration65:NLL loss49973.916114286905, train accuracy0.8288970788970789\n",
            "iteration70:NLL loss54204.80697958774, train accuracy0.814018564018564\n",
            "iteration75:NLL loss70288.98873951993, train accuracy0.7601351351351351\n",
            "              precision    recall  f1-score   support\n",
            "\n",
            "           0       0.88      0.91      0.89      2444\n",
            "           1       0.68      0.61      0.65       813\n",
            "\n",
            "    accuracy                           0.83      3257\n",
            "   macro avg       0.78      0.76      0.77      3257\n",
            "weighted avg       0.83      0.83      0.83      3257\n",
            "\n"
          ],
          "name": "stdout"
        }
      ]
    },
    {
      "cell_type": "markdown",
      "metadata": {
        "id": "VISJkCUk3jyZ",
        "colab_type": "text"
      },
      "source": [
        "# SVM"
      ]
    },
    {
      "cell_type": "code",
      "metadata": {
        "id": "GzaNOIZ97TvG",
        "colab_type": "code",
        "outputId": "2a24df84-07e7-4441-8027-3fe7111ace61",
        "colab": {
          "base_uri": "https://localhost:8080/",
          "height": 250
        }
      },
      "source": [
        "from sklearn.svm import SVC\n",
        "# 多项式核函数\n",
        "svc = SVC(kernel='poly', degree=3, gamma=1, coef0=0)\n",
        "svc.fit(x_train, y_train)\n",
        "preds = svc.predict(x_test)\n",
        "print(classification_report(y_test[:, 0], preds))\n",
        "print('准确率：', np.sum(y_test[:, 0]==preds)/y_test.shape[0])"
      ],
      "execution_count": 0,
      "outputs": [
        {
          "output_type": "stream",
          "text": [
            "/usr/local/lib/python3.6/dist-packages/sklearn/utils/validation.py:724: DataConversionWarning: A column-vector y was passed when a 1d array was expected. Please change the shape of y to (n_samples, ), for example using ravel().\n",
            "  y = column_or_1d(y, warn=True)\n"
          ],
          "name": "stderr"
        },
        {
          "output_type": "stream",
          "text": [
            "              precision    recall  f1-score   support\n",
            "\n",
            "           0       0.86      0.89      0.87       683\n",
            "           1       0.61      0.54      0.57       217\n",
            "\n",
            "    accuracy                           0.80       900\n",
            "   macro avg       0.73      0.72      0.72       900\n",
            "weighted avg       0.80      0.80      0.80       900\n",
            "\n",
            "准确率： 0.8044444444444444\n"
          ],
          "name": "stdout"
        }
      ]
    },
    {
      "cell_type": "code",
      "metadata": {
        "id": "TzAPH5Q388ZO",
        "colab_type": "code",
        "outputId": "6528eabd-e53d-4aa0-dd1c-a8fe667dca79",
        "colab": {
          "base_uri": "https://localhost:8080/",
          "height": 232
        }
      },
      "source": [
        "# sigmoid核函数\n",
        "svc = SVC(kernel='sigmoid', gamma=3, coef0=0)\n",
        "svc.fit(x_train, y_train)\n",
        "preds = svc.predict(x_test)\n",
        "print(classification_report(y_test[:, 0], preds))"
      ],
      "execution_count": 0,
      "outputs": [
        {
          "output_type": "stream",
          "text": [
            "/usr/local/lib/python3.6/dist-packages/sklearn/utils/validation.py:724: DataConversionWarning: A column-vector y was passed when a 1d array was expected. Please change the shape of y to (n_samples, ), for example using ravel().\n",
            "  y = column_or_1d(y, warn=True)\n"
          ],
          "name": "stderr"
        },
        {
          "output_type": "stream",
          "text": [
            "              precision    recall  f1-score   support\n",
            "\n",
            "           0       0.74      0.76      0.75       683\n",
            "           1       0.17      0.16      0.16       217\n",
            "\n",
            "    accuracy                           0.62       900\n",
            "   macro avg       0.46      0.46      0.46       900\n",
            "weighted avg       0.60      0.62      0.61       900\n",
            "\n"
          ],
          "name": "stdout"
        }
      ]
    },
    {
      "cell_type": "code",
      "metadata": {
        "id": "qdqBJEMv9ZEL",
        "colab_type": "code",
        "outputId": "937cc078-2bfb-43f1-ec19-af782c3c6a30",
        "colab": {
          "base_uri": "https://localhost:8080/",
          "height": 250
        }
      },
      "source": [
        "from sklearn.svm import SVC\n",
        "# 线性核函数\n",
        "svc = SVC(kernel='linear')\n",
        "svc.fit(x_train, y_train)\n",
        "preds = svc.predict(x_test)\n",
        "print(classification_report(y_test[:, 0], preds))\n",
        "print('准确率：', np.sum(y_test[:, 0]==preds)/y_test.shape[0])"
      ],
      "execution_count": 0,
      "outputs": [
        {
          "output_type": "stream",
          "text": [
            "/usr/local/lib/python3.6/dist-packages/sklearn/utils/validation.py:724: DataConversionWarning: A column-vector y was passed when a 1d array was expected. Please change the shape of y to (n_samples, ), for example using ravel().\n",
            "  y = column_or_1d(y, warn=True)\n"
          ],
          "name": "stderr"
        },
        {
          "output_type": "stream",
          "text": [
            "              precision    recall  f1-score   support\n",
            "\n",
            "           0       0.87      0.94      0.91      2444\n",
            "           1       0.77      0.59      0.67       813\n",
            "\n",
            "    accuracy                           0.85      3257\n",
            "   macro avg       0.82      0.76      0.79      3257\n",
            "weighted avg       0.85      0.85      0.85      3257\n",
            "\n",
            "准确率： 0.8532391771568928\n"
          ],
          "name": "stdout"
        }
      ]
    },
    {
      "cell_type": "code",
      "metadata": {
        "id": "Db0W5u3w9es-",
        "colab_type": "code",
        "outputId": "2a90316a-a9d9-4663-8129-d477a9feb3cc",
        "colab": {
          "base_uri": "https://localhost:8080/",
          "height": 268
        }
      },
      "source": [
        "# rbf核函数\n",
        "svc = SVC(kernel='sigmoid', gamma=30)\n",
        "svc.fit(x_train, y_train)\n",
        "preds = svc.predict(x_test)\n",
        "print(classification_report(y_test[:, 0], preds))"
      ],
      "execution_count": 0,
      "outputs": [
        {
          "output_type": "stream",
          "text": [
            "/usr/local/lib/python3.6/dist-packages/sklearn/utils/validation.py:724: DataConversionWarning: A column-vector y was passed when a 1d array was expected. Please change the shape of y to (n_samples, ), for example using ravel().\n",
            "  y = column_or_1d(y, warn=True)\n"
          ],
          "name": "stderr"
        },
        {
          "output_type": "stream",
          "text": [
            "              precision    recall  f1-score   support\n",
            "\n",
            "           0       0.76      1.00      0.86       683\n",
            "           1       0.00      0.00      0.00       217\n",
            "\n",
            "    accuracy                           0.76       900\n",
            "   macro avg       0.38      0.50      0.43       900\n",
            "weighted avg       0.58      0.76      0.65       900\n",
            "\n"
          ],
          "name": "stdout"
        },
        {
          "output_type": "stream",
          "text": [
            "/usr/local/lib/python3.6/dist-packages/sklearn/metrics/classification.py:1437: UndefinedMetricWarning: Precision and F-score are ill-defined and being set to 0.0 in labels with no predicted samples.\n",
            "  'precision', 'predicted', average, warn_for)\n"
          ],
          "name": "stderr"
        }
      ]
    },
    {
      "cell_type": "code",
      "metadata": {
        "id": "eZOUfJQ1hpkO",
        "colab_type": "code",
        "outputId": "d170c431-fc0c-45ce-8968-4109e14f8c12",
        "colab": {
          "base_uri": "https://localhost:8080/",
          "height": 52
        }
      },
      "source": [
        "czg = np.array([[1,2],[3,4],[5,6]])\n",
        "print(czg.shape)\n",
        "print(np.transpose(czg).shape)"
      ],
      "execution_count": 0,
      "outputs": [
        {
          "output_type": "stream",
          "text": [
            "(3, 2)\n",
            "(2, 3)\n"
          ],
          "name": "stdout"
        }
      ]
    },
    {
      "cell_type": "code",
      "metadata": {
        "id": "iM8LBxkev01N",
        "colab_type": "code",
        "outputId": "b14b57f0-e37e-490c-e9a3-e4e3cd790060",
        "colab": {
          "base_uri": "https://localhost:8080/",
          "height": 35
        }
      },
      "source": [
        "czg=1\n",
        "f = 2\n",
        "print('czdf{}hdhf{}'.format(czg, f))"
      ],
      "execution_count": 0,
      "outputs": [
        {
          "output_type": "stream",
          "text": [
            "czdf1hdhf2\n"
          ],
          "name": "stdout"
        }
      ]
    },
    {
      "cell_type": "code",
      "metadata": {
        "id": "mvarH-ZPhyfk",
        "colab_type": "code",
        "outputId": "1abcf6e2-b435-47fe-fb0e-53e5a992a8b1",
        "colab": {
          "base_uri": "https://localhost:8080/",
          "height": 195
        }
      },
      "source": [
        "w = np.random.random((10,1))\n",
        "print(w.shape, w)"
      ],
      "execution_count": 0,
      "outputs": [
        {
          "output_type": "stream",
          "text": [
            "(10, 1) [[0.48958609]\n",
            " [0.65183033]\n",
            " [0.15257632]\n",
            " [0.48595542]\n",
            " [0.84265239]\n",
            " [0.01898013]\n",
            " [0.02660925]\n",
            " [0.71987515]\n",
            " [0.15156138]\n",
            " [0.83486596]]\n"
          ],
          "name": "stdout"
        }
      ]
    },
    {
      "cell_type": "markdown",
      "metadata": {
        "id": "dBVD9T7gBYGO",
        "colab_type": "text"
      },
      "source": [
        "# 决策树"
      ]
    },
    {
      "cell_type": "code",
      "metadata": {
        "id": "NynF5JPybFw6",
        "colab_type": "code",
        "outputId": "3cb0990b-9f0c-4b63-cf04-719f11e786ff",
        "colab": {
          "base_uri": "https://localhost:8080/",
          "height": 241
        }
      },
      "source": [
        "from sklearn.ensemble import AdaBoostClassifier\n",
        "bdt = AdaBoostClassifier(LogisticRegression(),\n",
        "                         algorithm=\"SAMME\",\n",
        "                         n_estimators=400, learning_rate=0.8)\n",
        "bdt.fit(x_train, y_train)\n",
        "preds = bdt.predict(x_test)\n",
        "print(np.sum(np.expand_dims(preds, axis=-1)==y_test)/y_test.shape[0])"
      ],
      "execution_count": 0,
      "outputs": [
        {
          "output_type": "error",
          "ename": "NameError",
          "evalue": "ignored",
          "traceback": [
            "\u001b[0;31m---------------------------------------------------------------------------\u001b[0m",
            "\u001b[0;31mNameError\u001b[0m                                 Traceback (most recent call last)",
            "\u001b[0;32m<ipython-input-11-3c47f69f2620>\u001b[0m in \u001b[0;36m<module>\u001b[0;34m()\u001b[0m\n\u001b[1;32m      1\u001b[0m \u001b[0;32mfrom\u001b[0m \u001b[0msklearn\u001b[0m\u001b[0;34m.\u001b[0m\u001b[0mensemble\u001b[0m \u001b[0;32mimport\u001b[0m \u001b[0mAdaBoostClassifier\u001b[0m\u001b[0;34m\u001b[0m\u001b[0;34m\u001b[0m\u001b[0m\n\u001b[0;32m----> 2\u001b[0;31m bdt = AdaBoostClassifier(LogisticRegression(),\n\u001b[0m\u001b[1;32m      3\u001b[0m                          \u001b[0malgorithm\u001b[0m\u001b[0;34m=\u001b[0m\u001b[0;34m\"SAMME\"\u001b[0m\u001b[0;34m,\u001b[0m\u001b[0;34m\u001b[0m\u001b[0;34m\u001b[0m\u001b[0m\n\u001b[1;32m      4\u001b[0m                          n_estimators=400, learning_rate=0.8)\n\u001b[1;32m      5\u001b[0m \u001b[0mbdt\u001b[0m\u001b[0;34m.\u001b[0m\u001b[0mfit\u001b[0m\u001b[0;34m(\u001b[0m\u001b[0mx_train\u001b[0m\u001b[0;34m,\u001b[0m \u001b[0my_train\u001b[0m\u001b[0;34m)\u001b[0m\u001b[0;34m\u001b[0m\u001b[0;34m\u001b[0m\u001b[0m\n",
            "\u001b[0;31mNameError\u001b[0m: name 'LogisticRegression' is not defined"
          ]
        }
      ]
    },
    {
      "cell_type": "code",
      "metadata": {
        "colab_type": "code",
        "outputId": "6be35a40-4afa-487b-f8ab-bef6f255c1e5",
        "id": "WNL_bz8B36-z",
        "colab": {
          "base_uri": "https://localhost:8080/",
          "height": 35
        }
      },
      "source": [
        "import pandas as pd\n",
        "import numpy as np\n",
        "x_data = pd.read_csv('/content/drive/My Drive/研一/模式识别/数据/X_train.csv')\n",
        "y_data = pd.read_csv('/content/drive/My Drive/研一/模式识别/数据/Y_train.csv')\n",
        "x_data = np.array(x_data)\n",
        "y_data = np.array(y_data)\n",
        "print(x_data.shape, y_data.shape)"
      ],
      "execution_count": 0,
      "outputs": [
        {
          "output_type": "stream",
          "text": [
            "(32561, 106) (32561, 1)\n"
          ],
          "name": "stdout"
        }
      ]
    },
    {
      "cell_type": "code",
      "metadata": {
        "id": "zxotwFoOYb_g",
        "colab_type": "code",
        "colab": {}
      },
      "source": [
        "from sklearn.model_selection import train_test_split\n",
        "from sklearn import preprocessing\n",
        "from sklearn.svm import SVC\n",
        "from sklearn.metrics import classification_report\n",
        "\n",
        "# y_data = y_data*2-1\n",
        "# y_data = np.reshape(y_data, (32561,))\n",
        "# x_data = np.delete(x_data, 1, axis=1)\n",
        "selected_num = 1000\n",
        "x_data = x_data[0:selected_num]\n",
        "y_data = y_data[0:selected_num]\n",
        "# x_data = preprocessing.MaxAbsScaler().fit_transform(x_data)\n",
        "x_train, x_test, y_train, y_test = train_test_split(x_data, y_data, test_size=0.3, random_state=2)"
      ],
      "execution_count": 0,
      "outputs": []
    },
    {
      "cell_type": "code",
      "metadata": {
        "id": "21FC0Y-cBeQ8",
        "colab_type": "code",
        "outputId": "41c8b2fe-fa4f-4039-a92a-d0c59bcb607a",
        "colab": {
          "base_uri": "https://localhost:8080/",
          "height": 124
        }
      },
      "source": [
        "# import sklearn.tree.DecisionTreeClassifier\n",
        "from sklearn.tree import DecisionTreeClassifier\n",
        "cart = DecisionTreeClassifier(min_samples_leaf=10)\n",
        "cart.fit(x_train, y_train)"
      ],
      "execution_count": 0,
      "outputs": [
        {
          "output_type": "execute_result",
          "data": {
            "text/plain": [
              "DecisionTreeClassifier(class_weight=None, criterion='gini', max_depth=None,\n",
              "                       max_features=None, max_leaf_nodes=None,\n",
              "                       min_impurity_decrease=0.0, min_impurity_split=None,\n",
              "                       min_samples_leaf=10, min_samples_split=2,\n",
              "                       min_weight_fraction_leaf=0.0, presort=False,\n",
              "                       random_state=None, splitter='best')"
            ]
          },
          "metadata": {
            "tags": []
          },
          "execution_count": 12
        }
      ]
    },
    {
      "cell_type": "code",
      "metadata": {
        "id": "ajDlg2_jZbAg",
        "colab_type": "code",
        "colab": {}
      },
      "source": [
        "preds = cart.predict(x_test)"
      ],
      "execution_count": 0,
      "outputs": []
    },
    {
      "cell_type": "code",
      "metadata": {
        "id": "lMmGbKZUcE5p",
        "colab_type": "code",
        "outputId": "30664e2a-d0c5-476f-9fe6-b80999d6500c",
        "colab": {
          "base_uri": "https://localhost:8080/",
          "height": 177
        }
      },
      "source": [
        "print(preds)"
      ],
      "execution_count": 0,
      "outputs": [
        {
          "output_type": "stream",
          "text": [
            "[0 0 0 0 0 1 0 1 0 0 0 1 0 1 0 0 1 0 0 0 0 1 0 0 0 1 0 1 0 0 0 1 0 0 1 0 1\n",
            " 0 1 0 1 0 0 1 1 0 0 0 0 0 0 0 0 0 0 0 0 0 1 0 0 1 1 0 1 1 0 0 0 0 1 0 1 0\n",
            " 0 0 1 0 0 0 0 0 0 1 0 0 0 1 0 0 1 0 0 0 0 0 0 0 1 0 0 0 1 0 0 0 0 0 0 0 0\n",
            " 0 1 1 1 0 0 0 0 0 0 0 0 0 1 0 0 0 0 0 0 0 0 0 1 0 0 0 0 0 1 0 0 0 0 0 1 0\n",
            " 0 1 0 0 0 0 1 1 0 1 0 1 0 0 1 0 0 0 0 1 0 0 0 0 1 0 0 1 0 0 0 1 0 0 0 1 0\n",
            " 0 0 0 0 0 0 1 0 1 1 0 0 0 0 0 0 0 0 0 0 1 1 0 1 1 1 0 0 0 1 0 0 0 0 0 0 0\n",
            " 0 0 1 0 0 1 0 0 1 0 0 1 0 0 1 0 0 1 1 0 1 0 0 0 0 1 1 0 1 0 1 0 1 0 0 0 0\n",
            " 0 0 0 0 0 1 0 0 0 0 0 0 0 0 0 0 0 1 1 0 1 0 0 1 0 0 0 0 1 1 0 1 0 0 1 0 0\n",
            " 0 0 1 0]\n"
          ],
          "name": "stdout"
        }
      ]
    },
    {
      "cell_type": "code",
      "metadata": {
        "id": "kcCUYh-KdMX4",
        "colab_type": "code",
        "outputId": "1a9feda9-85ef-4013-c9f0-e9af61465c95",
        "colab": {
          "base_uri": "https://localhost:8080/",
          "height": 35
        }
      },
      "source": [
        "print(preds.shape, y_test.shape)"
      ],
      "execution_count": 0,
      "outputs": [
        {
          "output_type": "stream",
          "text": [
            "(300,) (300, 1)\n"
          ],
          "name": "stdout"
        }
      ]
    },
    {
      "cell_type": "code",
      "metadata": {
        "id": "nzOlUovnckjI",
        "colab_type": "code",
        "outputId": "a90491ed-0fc8-4902-dcc3-d5a12410e464",
        "colab": {
          "base_uri": "https://localhost:8080/",
          "height": 195
        }
      },
      "source": [
        "print(np.sum(np.expand_dims(preds, axis=-1)==y_test)/y_test.shape[0])\n",
        "print(classification_report(y_test[:, 0], preds))"
      ],
      "execution_count": 0,
      "outputs": [
        {
          "output_type": "stream",
          "text": [
            "0.8532391771568928\n",
            "              precision    recall  f1-score   support\n",
            "\n",
            "           0       0.89      0.92      0.90      2444\n",
            "           1       0.74      0.64      0.69       813\n",
            "\n",
            "    accuracy                           0.85      3257\n",
            "   macro avg       0.81      0.78      0.79      3257\n",
            "weighted avg       0.85      0.85      0.85      3257\n",
            "\n"
          ],
          "name": "stdout"
        }
      ]
    },
    {
      "cell_type": "code",
      "metadata": {
        "id": "Xl1ETs-FdDM-",
        "colab_type": "code",
        "outputId": "9ba70c76-7920-4948-bcdd-6e30b9ab0db3",
        "colab": {
          "base_uri": "https://localhost:8080/",
          "height": 126
        }
      },
      "source": [
        "from xgboost import XGBClassifier\n",
        "model = XGBClassifier(n_estimatores=2000, learning_rate=0.5)               # 载入模型（模型命名为model)\n",
        "model.fit(x_train,y_train)            # 训练模型（训练集）\n",
        "preds = model.predict(x_test)        # 模型预测（测试集），y_pred为预测结果\n",
        "from sklearn.metrics import accuracy_score   # 准确率\n",
        "accuracy = accuracy_score(y_test,preds)\n",
        "print(\"accuarcy: %.2f%%\" % (accuracy*100.0))"
      ],
      "execution_count": 0,
      "outputs": [
        {
          "output_type": "stream",
          "text": [
            "/usr/local/lib/python3.6/dist-packages/sklearn/preprocessing/label.py:219: DataConversionWarning: A column-vector y was passed when a 1d array was expected. Please change the shape of y to (n_samples, ), for example using ravel().\n",
            "  y = column_or_1d(y, warn=True)\n",
            "/usr/local/lib/python3.6/dist-packages/sklearn/preprocessing/label.py:252: DataConversionWarning: A column-vector y was passed when a 1d array was expected. Please change the shape of y to (n_samples, ), for example using ravel().\n",
            "  y = column_or_1d(y, warn=True)\n"
          ],
          "name": "stderr"
        },
        {
          "output_type": "stream",
          "text": [
            "accuarcy: 87.50%\n"
          ],
          "name": "stdout"
        }
      ]
    },
    {
      "cell_type": "code",
      "metadata": {
        "id": "yCAracLwdbci",
        "colab_type": "code",
        "colab": {}
      },
      "source": [
        "test = pd.read_csv('/content/drive/My Drive/研一/模式识别/数据/X_test.csv')\n",
        "test = np.array(test)"
      ],
      "execution_count": 0,
      "outputs": []
    },
    {
      "cell_type": "code",
      "metadata": {
        "id": "20EDIPRBrw1o",
        "colab_type": "code",
        "outputId": "d0387040-56ea-425f-fdb5-4c0666ca7876",
        "colab": {
          "base_uri": "https://localhost:8080/",
          "height": 35
        }
      },
      "source": [
        "print(test.shape)"
      ],
      "execution_count": 0,
      "outputs": [
        {
          "output_type": "stream",
          "text": [
            "(16281, 106)\n"
          ],
          "name": "stdout"
        }
      ]
    },
    {
      "cell_type": "code",
      "metadata": {
        "id": "sG7don4brscW",
        "colab_type": "code",
        "outputId": "cb6e027e-496c-4df6-dda2-207349c2687d",
        "colab": {
          "base_uri": "https://localhost:8080/",
          "height": 35
        }
      },
      "source": [
        "preds = model.predict(test)\n",
        "print(preds.shape)"
      ],
      "execution_count": 0,
      "outputs": [
        {
          "output_type": "stream",
          "text": [
            "(16281,)\n"
          ],
          "name": "stdout"
        }
      ]
    }
  ]
}